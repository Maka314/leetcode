{
 "cells": [
  {
   "cell_type": "code",
   "execution_count": 4,
   "metadata": {},
   "outputs": [
    {
     "name": "stdout",
     "output_type": "stream",
     "text": [
      "[{1, 2}, {0, 3}, {0}, {1}]\n"
     ]
    }
   ],
   "source": [
    "class Solution:\n",
    "    def possibleBipartition(self, n: int, dislikes: list[list[int]]) -> bool:\n",
    "        dis = [set() for i in range(n)]\n",
    "        for p1,p2 in dislikes:\n",
    "            dis[p1-1].add(p2-1)\n",
    "            dis[p2-1].add(p1-1)\n",
    "        red,blue = set(),set()\n",
    "        for i,j in enumerate(dis):\n",
    "            if i not in red and i not in blue:\n",
    "                red.add()\n",
    "                for hater in j:\n",
    "                    blue.add(hater)\n",
    "            elif i in red and i not in blue:\n",
    "                pass\n",
    "            elif i not in red and i in blue:\n",
    "                pass\n",
    "            else:\n",
    "                return False\n",
    "\n",
    "s=Solution()\n",
    "n = 4\n",
    "dislikes = [[1,2],[1,3],[2,4]]\n",
    "print(s.possibleBipartition(n,dislikes))"
   ]
  },
  {
   "cell_type": "code",
   "execution_count": 6,
   "metadata": {},
   "outputs": [
    {
     "name": "stdout",
     "output_type": "stream",
     "text": [
      "1\n",
      "2\n"
     ]
    }
   ],
   "source": [
    "s = set()\n",
    "s.add(2)\n",
    "s.add(1)\n",
    "for i in s:\n",
    "    print(i)"
   ]
  },
  {
   "cell_type": "code",
   "execution_count": null,
   "metadata": {},
   "outputs": [],
   "source": []
  }
 ],
 "metadata": {
  "kernelspec": {
   "display_name": "Python 3",
   "language": "python",
   "name": "python3"
  },
  "language_info": {
   "codemirror_mode": {
    "name": "ipython",
    "version": 3
   },
   "file_extension": ".py",
   "mimetype": "text/x-python",
   "name": "python",
   "nbconvert_exporter": "python",
   "pygments_lexer": "ipython3",
   "version": "3.10.6"
  },
  "orig_nbformat": 4
 },
 "nbformat": 4,
 "nbformat_minor": 2
}
