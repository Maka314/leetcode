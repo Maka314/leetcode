{
 "cells": [
  {
   "cell_type": "code",
   "execution_count": 1,
   "metadata": {},
   "outputs": [],
   "source": [
    "a = [\n",
    "    [True, False, False, False, False, False, False, False, False, False, False, False],\n",
    "    [True, True, False, False, False, False, False, False, False, False, False, False],\n",
    "    [True, True, False, False, False, True, True, False, False, False, False, False],\n",
    "    [True, True, False, False, False, True, True, False, False, False, False, True],\n",
    "    [True, True, False, False, False, True, True, False, False, False, True, True],\n",
    "]"
   ]
  },
  {
   "cell_type": "code",
   "execution_count": 9,
   "metadata": {},
   "outputs": [
    {
     "name": "stdout",
     "output_type": "stream",
     "text": [
      "[[False, False, False, False, False, False, False, False, False, False, False, False], [False, False, False, False, False, False, False, False, False, False, False, False], [False, False, False, False, False, False, False, False, False, False, False, False], [False, False, False, False, False, False, False, False, False, False, False, False], [False, False, False, False, False, False, False, False, False, False, False, False]]\n"
     ]
    }
   ],
   "source": [
    "nums = [1,5,11,5]\n",
    "total_sum = sum(nums)\n",
    "target_sum = total_sum // 2\n",
    "dp = [[False] * (target_sum + 1) for _ in range(len(nums) + 1)]\n",
    "print(dp)"
   ]
  },
  {
   "cell_type": "code",
   "execution_count": null,
   "metadata": {},
   "outputs": [],
   "source": []
  }
 ],
 "metadata": {
  "kernelspec": {
   "display_name": "Python 3",
   "language": "python",
   "name": "python3"
  },
  "language_info": {
   "codemirror_mode": {
    "name": "ipython",
    "version": 3
   },
   "file_extension": ".py",
   "mimetype": "text/x-python",
   "name": "python",
   "nbconvert_exporter": "python",
   "pygments_lexer": "ipython3",
   "version": "3.8.10"
  },
  "orig_nbformat": 4
 },
 "nbformat": 4,
 "nbformat_minor": 2
}
