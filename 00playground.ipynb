{
 "cells": [
  {
   "cell_type": "code",
   "execution_count": 8,
   "metadata": {},
   "outputs": [
    {
     "name": "stdout",
     "output_type": "stream",
     "text": [
      "-5 [-3, -2, -3]\n",
      "-3 [-2, -3]\n",
      "0 [-3]\n",
      "-6 [-2, -3, -3]\n",
      "-3 [-3, -3]\n",
      "0 [-3]\n",
      "-5 [-3, -3, -2]\n",
      "-2 [-3, -2]\n",
      "0 [-2]\n"
     ]
    }
   ],
   "source": [
    "nums = [-3,-2,-3]\n",
    "n = len(nums)\n",
    "nums += nums\n",
    "for l in range(n, 2 * n):\n",
    "    s = sum(nums[l-n:l])\n",
    "    for r in range(l-n,l):\n",
    "        s -= nums[r]\n",
    "        print(s,nums[r:l])"
   ]
  },
  {
   "cell_type": "code",
   "execution_count": null,
   "metadata": {},
   "outputs": [],
   "source": []
  },
  {
   "cell_type": "code",
   "execution_count": null,
   "metadata": {},
   "outputs": [],
   "source": []
  },
  {
   "cell_type": "code",
   "execution_count": null,
   "metadata": {},
   "outputs": [],
   "source": []
  }
 ],
 "metadata": {
  "kernelspec": {
   "display_name": "Python 3",
   "language": "python",
   "name": "python3"
  },
  "language_info": {
   "codemirror_mode": {
    "name": "ipython",
    "version": 3
   },
   "file_extension": ".py",
   "mimetype": "text/x-python",
   "name": "python",
   "nbconvert_exporter": "python",
   "pygments_lexer": "ipython3",
   "version": "3.8.10"
  },
  "orig_nbformat": 4
 },
 "nbformat": 4,
 "nbformat_minor": 2
}
