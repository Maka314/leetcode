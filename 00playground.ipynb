{
 "cells": [
  {
   "cell_type": "code",
   "execution_count": 31,
   "metadata": {},
   "outputs": [],
   "source": [
    "#\n",
    "# @lc app=leetcode.cn id=820 lang=python3\n",
    "#\n",
    "# [820] 单词的压缩编码\n",
    "#\n",
    "\n",
    "\n",
    "# @lc code=start\n",
    "class treeNode:\n",
    "    def __init__(self, val) -> None:\n",
    "        self.val = val\n",
    "        self.next = {}\n",
    "\n",
    "    def addNode(self, node):\n",
    "        self.next[node.val] = node\n",
    "\n",
    "    def findNode(self, val):\n",
    "        if val in self.next:\n",
    "            return self.next[val]\n",
    "        else:\n",
    "            return None\n",
    "\n",
    "\n",
    "class compressTree:\n",
    "    def __init__(self) -> None:\n",
    "        self.root = treeNode(0)\n",
    "\n",
    "    def addWord(self, word):\n",
    "        operator = self.root\n",
    "        for i in word[::-1]:\n",
    "            nextNode = operator.findNode(i)\n",
    "            if nextNode:\n",
    "                operator = nextNode\n",
    "            else:\n",
    "                nextNode = treeNode(i)\n",
    "                operator.addNode(nextNode)\n",
    "                operator = nextNode\n",
    "\n",
    "    def countTree(self, node: treeNode, layer=0):\n",
    "        res = 0\n",
    "        if not node.next:\n",
    "            return 1\n",
    "        else:\n",
    "            res = len(node.next)\n",
    "            for e in node.next:\n",
    "                res += self.countTree(node.next[e])\n",
    "        return res\n",
    "\n",
    "\n",
    "class Solution:\n",
    "    def minimumLengthEncoding(self, words) -> int:\n",
    "        res = compressTree()\n",
    "        for w in words:\n",
    "            res.addWord(w)\n",
    "        return (res.countTree(res.root))\n",
    "\n",
    "\n",
    "# @lc code=end\n"
   ]
  },
  {
   "cell_type": "code",
   "execution_count": 28,
   "metadata": {},
   "outputs": [],
   "source": [
    "res = compressTree()\n",
    "for w in words:\n",
    "    res.addWord(w)\n",
    "print(res.countTree(res.root))"
   ]
  }
 ],
 "metadata": {
  "kernelspec": {
   "display_name": "Python 3",
   "language": "python",
   "name": "python3"
  },
  "language_info": {
   "codemirror_mode": {
    "name": "ipython",
    "version": 3
   },
   "file_extension": ".py",
   "mimetype": "text/x-python",
   "name": "python",
   "nbconvert_exporter": "python",
   "pygments_lexer": "ipython3",
   "version": "3.8.10"
  },
  "orig_nbformat": 4
 },
 "nbformat": 4,
 "nbformat_minor": 2
}
