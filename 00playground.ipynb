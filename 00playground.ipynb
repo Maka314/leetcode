{
 "cells": [
  {
   "cell_type": "code",
   "execution_count": 31,
   "metadata": {},
   "outputs": [],
   "source": [
    "height = [0,1,0,2,1,0,1,3,2,1,2,1]\n"
   ]
  },
  {
   "cell_type": "code",
   "execution_count": 68,
   "metadata": {},
   "outputs": [],
   "source": [
    "class Solution:\n",
    "    def trap(self, height) -> int:\n",
    "        res = 0\n",
    "        l, size = 0, len(height)\n",
    "        while l < size - 1:\n",
    "            higestIndex = l + 1\n",
    "            for r in range(l + 1, size):\n",
    "                if height[r] >= height[l]:\n",
    "                    res += (r - l - 1) * height[l] - sum(height[l+1:r])\n",
    "                    print((r - l - 1) * height[l] - sum(height[l+1:r]))\n",
    "                    l = r\n",
    "                    continue\n",
    "                if height[r] > height[higestIndex]:\n",
    "                    higestIndex = r\n",
    "            if higestIndex>l:\n",
    "                res += (higestIndex - l - 1) * height[higestIndex] - sum(height[l+1:higestIndex])\n",
    "                l = higestIndex\n",
    "        return res"
   ]
  },
  {
   "cell_type": "code",
   "execution_count": 69,
   "metadata": {},
   "outputs": [
    {
     "name": "stdout",
     "output_type": "stream",
     "text": [
      "0\n",
      "1\n",
      "4\n",
      "1\n"
     ]
    },
    {
     "data": {
      "text/plain": [
       "6"
      ]
     },
     "execution_count": 69,
     "metadata": {},
     "output_type": "execute_result"
    }
   ],
   "source": [
    "s = Solution()\n",
    "s.trap(height)"
   ]
  },
  {
   "cell_type": "code",
   "execution_count": null,
   "metadata": {},
   "outputs": [],
   "source": []
  }
 ],
 "metadata": {
  "kernelspec": {
   "display_name": "Python 3",
   "language": "python",
   "name": "python3"
  },
  "language_info": {
   "codemirror_mode": {
    "name": "ipython",
    "version": 3
   },
   "file_extension": ".py",
   "mimetype": "text/x-python",
   "name": "python",
   "nbconvert_exporter": "python",
   "pygments_lexer": "ipython3",
   "version": "3.8.10"
  },
  "orig_nbformat": 4
 },
 "nbformat": 4,
 "nbformat_minor": 2
}
