{
 "cells": [
  {
   "cell_type": "code",
   "execution_count": 7,
   "metadata": {},
   "outputs": [
    {
     "name": "stdout",
     "output_type": "stream",
     "text": [
      "0 {3, 4, 5, 6, 7, 8, 9, 11, 15, 16, 19, 20, 24, 26, 34, 35, 37, 38, 42, 47}\n",
      "set() set()\n",
      "1 {36, 40, 10, 45, 21, 29, 31}\n",
      "{0} {3, 4, 5, 6, 7, 8, 9, 11, 15, 16, 19, 20, 24, 26, 34, 35, 37, 38, 42, 47}\n",
      "2 {36, 41, 10, 45, 21, 25, 28, 29, 31}\n",
      "{0, 1} {3, 4, 5, 6, 7, 8, 9, 10, 11, 15, 16, 19, 20, 21, 24, 26, 29, 31, 34, 35, 36, 37, 38, 40, 42, 45, 47}\n",
      "3 {0, 36, 40, 41, 21, 29, 31}\n",
      "{0, 1, 2} {3, 4, 5, 6, 7, 8, 9, 10, 11, 15, 16, 19, 20, 21, 24, 25, 26, 28, 29, 31, 34, 35, 36, 37, 38, 40, 41, 42, 45, 47}\n",
      "{0, 1, 2} {3, 4, 5, 6, 7, 8, 9, 10, 11, 15, 16, 19, 20, 21, 24, 25, 26, 28, 29, 31, 34, 35, 36, 37, 38, 40, 41, 42, 45, 47}\n",
      "3 {0, 36, 40, 41, 21, 29, 31}\n",
      "False\n"
     ]
    }
   ],
   "source": [
    "class Solution:\n",
    "    def possibleBipartition(self, n: int, dislikes: list[list[int]]) -> bool:\n",
    "        dis = [set() for i in range(n)]\n",
    "        for p1,p2 in dislikes:\n",
    "            dis[p1-1].add(p2-1)\n",
    "            dis[p2-1].add(p1-1)\n",
    "        red,blue = set(),set()\n",
    "        for i,j in enumerate(dis):\n",
    "            print(i,j)\n",
    "            print(red,blue)\n",
    "            if i not in red and i not in blue:\n",
    "                #两边都不排斥这个元素\n",
    "                red.add(i)\n",
    "                for hater in j:\n",
    "                    if hater in red:\n",
    "                        print('p1')\n",
    "                        return False\n",
    "                    else:\n",
    "                        blue.add(hater)\n",
    "            elif i in red and i not in blue:\n",
    "                for hater in j:\n",
    "                    if hater in red:\n",
    "                        print('p2')\n",
    "                        return False\n",
    "                    else:\n",
    "                        blue.add(hater)\n",
    "            elif i not in red and i in blue:\n",
    "                for hater in j:\n",
    "                    if hater in blue:\n",
    "                        print(red,blue)\n",
    "                        print(i,j)\n",
    "                        return False\n",
    "                    else:\n",
    "                        red.add(hater)\n",
    "            else:\n",
    "                print('p4')\n",
    "                return False\n",
    "        return True\n",
    "\n",
    "s=Solution()\n",
    "n = 50\n",
    "dislikes = [[21,47],[4,41],[2,41],[36,42],[32,45],[26,28],[32,44],[5,41],[29,44],[10,46],[1,6],[7,42],[46,49],[17,46],[32,35],[11,48],[37,48],[37,43],[8,41],[16,22],[41,43],[11,27],[22,44],[22,28],[18,37],[5,11],[18,46],[22,48],[1,17],[2,32],[21,37],[7,22],[23,41],[30,39],[6,41],[10,22],[36,41],[22,25],[1,12],[2,11],[45,46],[2,22],[1,38],[47,50],[11,15],[2,37],[1,43],[30,45],[4,32],[28,37],[1,21],[23,37],[5,37],[29,40],[6,42],[3,11],[40,42],[26,49],[41,50],[13,41],[20,47],[15,26],[47,49],[5,30],[4,42],[10,30],[6,29],[20,42],[4,37],[28,42],[1,16],[8,32],[16,29],[31,47],[15,47],[1,5],[7,37],[14,47],[30,48],[1,10],[26,43],[15,46],[42,45],[18,42],[25,42],[38,41],[32,39],[6,30],[29,33],[34,37],[26,38],[3,22],[18,47],[42,48],[22,49],[26,34],[22,36],[29,36],[11,25],[41,44],[6,46],[13,22],[11,16],[10,37],[42,43],[12,32],[1,48],[26,40],[22,50],[17,26],[4,22],[11,14],[26,39],[7,11],[23,26],[1,20],[32,33],[30,33],[1,25],[2,30],[2,46],[26,45],[47,48],[5,29],[3,37],[22,34],[20,22],[9,47],[1,4],[36,46],[30,49],[1,9],[3,26],[25,41],[14,29],[1,35],[23,42],[21,32],[24,46],[3,32],[9,42],[33,37],[7,30],[29,45],[27,30],[1,7],[33,42],[17,47],[12,47],[19,41],[3,42],[24,26],[20,29],[11,23],[22,40],[9,37],[31,32],[23,46],[11,38],[27,29],[17,37],[23,30],[14,42],[28,30],[29,31],[1,8],[1,36],[42,50],[21,41],[11,18],[39,41],[32,34],[6,37],[30,38],[21,46],[16,37],[22,24],[17,32],[23,29],[3,30],[8,30],[41,48],[1,39],[8,47],[30,44],[9,46],[22,45],[7,26],[35,42],[1,27],[17,30],[20,46],[18,29],[3,29],[4,30],[3,46]]\n",
    "print(s.possibleBipartition(n,dislikes))"
   ]
  },
  {
   "cell_type": "code",
   "execution_count": 1,
   "metadata": {},
   "outputs": [
    {
     "data": {
      "text/plain": [
       "[5, 4, 3, 2, 1]"
      ]
     },
     "execution_count": 1,
     "metadata": {},
     "output_type": "execute_result"
    }
   ],
   "source": [
    "a=[1,2,3,4,5]\n",
    "l = len(a)\n",
    "for i,j in enumerate(a):\n",
    "    a[-(i+1)],a[i] = j ,a[-(i+1)]\n",
    "    if i+1>l/2:\n",
    "        break\n",
    "a"
   ]
  },
  {
   "cell_type": "code",
   "execution_count": 2,
   "metadata": {},
   "outputs": [
    {
     "data": {
      "text/plain": [
       "False"
      ]
     },
     "execution_count": 2,
     "metadata": {},
     "output_type": "execute_result"
    }
   ],
   "source": [
    "bool(None)"
   ]
  },
  {
   "cell_type": "code",
   "execution_count": null,
   "metadata": {},
   "outputs": [],
   "source": []
  }
 ],
 "metadata": {
  "kernelspec": {
   "display_name": "Python 3",
   "language": "python",
   "name": "python3"
  },
  "language_info": {
   "codemirror_mode": {
    "name": "ipython",
    "version": 3
   },
   "file_extension": ".py",
   "mimetype": "text/x-python",
   "name": "python",
   "nbconvert_exporter": "python",
   "pygments_lexer": "ipython3",
   "version": "3.10.6"
  },
  "orig_nbformat": 4
 },
 "nbformat": 4,
 "nbformat_minor": 2
}
