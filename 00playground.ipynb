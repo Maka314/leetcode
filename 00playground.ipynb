{
 "cells": [
  {
   "cell_type": "code",
   "execution_count": 2,
   "metadata": {},
   "outputs": [
    {
     "ename": "UnboundLocalError",
     "evalue": "local variable 'booking' referenced before assignment",
     "output_type": "error",
     "traceback": [
      "\u001b[0;31m---------------------------------------------------------------------------\u001b[0m",
      "\u001b[0;31mUnboundLocalError\u001b[0m                         Traceback (most recent call last)",
      "Cell \u001b[0;32mIn[2], line 9\u001b[0m\n\u001b[1;32m      6\u001b[0m     \u001b[39mreturn\u001b[39;00m res\n\u001b[1;32m      8\u001b[0m booker \u001b[39m=\u001b[39m sBooking()\n\u001b[0;32m----> 9\u001b[0m booker()\n\u001b[1;32m     10\u001b[0m booker()\n",
      "Cell \u001b[0;32mIn[2], line 4\u001b[0m, in \u001b[0;36msBooking.<locals>.res\u001b[0;34m()\u001b[0m\n\u001b[1;32m      3\u001b[0m \u001b[39mdef\u001b[39;00m \u001b[39mres\u001b[39m():\n\u001b[0;32m----> 4\u001b[0m     booking \u001b[39m+\u001b[39m\u001b[39m=\u001b[39m \u001b[39m1\u001b[39m\n\u001b[1;32m      5\u001b[0m     \u001b[39mprint\u001b[39m(booking)\n",
      "\u001b[0;31mUnboundLocalError\u001b[0m: local variable 'booking' referenced before assignment"
     ]
    }
   ],
   "source": [
    "def sBooking():\n",
    "    booking = 0\n",
    "    def res():\n",
    "        booking += 1\n",
    "        print(booking)\n",
    "    return res\n",
    "\n",
    "booker = sBooking()\n",
    "booker()\n",
    "booker()"
   ]
  },
  {
   "cell_type": "code",
   "execution_count": 6,
   "metadata": {},
   "outputs": [
    {
     "data": {
      "text/plain": [
       "17"
      ]
     },
     "execution_count": 6,
     "metadata": {},
     "output_type": "execute_result"
    }
   ],
   "source": [
    "def findTarget(source:str, start:int, target:str):\n",
    "    targetLenth = len(target)\n",
    "    for i in range(start,len(source)):\n",
    "        if source[i:i+targetLenth] == target:\n",
    "            return i+targetLenth\n",
    "\n",
    "findTarget(source, 2, '*/')"
   ]
  },
  {
   "cell_type": "code",
   "execution_count": 10,
   "metadata": {},
   "outputs": [
    {
     "data": {
      "text/plain": [
       "['/*Test program */',\n",
       " 'int main()',\n",
       " '{ ',\n",
       " '  // variable declaration ',\n",
       " 'int a, b, c;',\n",
       " '/* This is a test',\n",
       " '   multiline  ',\n",
       " '   comment for ',\n",
       " '   testing */',\n",
       " 'a = b + c;',\n",
       " '}']"
      ]
     },
     "execution_count": 10,
     "metadata": {},
     "output_type": "execute_result"
    }
   ],
   "source": [
    "source.split('\\n')"
   ]
  },
  {
   "cell_type": "code",
   "execution_count": 9,
   "metadata": {},
   "outputs": [
    {
     "data": {
      "text/plain": [
       "'\\n'"
      ]
     },
     "execution_count": 9,
     "metadata": {},
     "output_type": "execute_result"
    }
   ],
   "source": [
    "source[17]"
   ]
  },
  {
   "cell_type": "code",
   "execution_count": null,
   "metadata": {},
   "outputs": [],
   "source": []
  }
 ],
 "metadata": {
  "kernelspec": {
   "display_name": "Python 3",
   "language": "python",
   "name": "python3"
  },
  "language_info": {
   "codemirror_mode": {
    "name": "ipython",
    "version": 3
   },
   "file_extension": ".py",
   "mimetype": "text/x-python",
   "name": "python",
   "nbconvert_exporter": "python",
   "pygments_lexer": "ipython3",
   "version": "3.8.10"
  },
  "orig_nbformat": 4
 },
 "nbformat": 4,
 "nbformat_minor": 2
}
