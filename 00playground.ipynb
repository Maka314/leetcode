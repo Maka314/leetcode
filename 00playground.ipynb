{
 "cells": [
  {
   "cell_type": "code",
   "execution_count": 4,
   "metadata": {},
   "outputs": [
    {
     "ename": "NameError",
     "evalue": "name 'List' is not defined",
     "output_type": "error",
     "traceback": [
      "\u001b[0;31m---------------------------------------------------------------------------\u001b[0m",
      "\u001b[0;31mNameError\u001b[0m                                 Traceback (most recent call last)",
      "Cell \u001b[0;32mIn[4], line 1\u001b[0m\n\u001b[0;32m----> 1\u001b[0m \u001b[39mclass\u001b[39;00m \u001b[39mSolution\u001b[39;00m:\n\u001b[1;32m      2\u001b[0m     \u001b[39mdef\u001b[39;00m \u001b[39mhandleQuery\u001b[39m(\u001b[39mself\u001b[39m, nums1, nums2, queries) \u001b[39m-\u001b[39m\u001b[39m>\u001b[39m List[\u001b[39mint\u001b[39m]:\n\u001b[1;32m      3\u001b[0m         res \u001b[39m=\u001b[39m []\n",
      "Cell \u001b[0;32mIn[4], line 2\u001b[0m, in \u001b[0;36mSolution\u001b[0;34m()\u001b[0m\n\u001b[1;32m      1\u001b[0m \u001b[39mclass\u001b[39;00m \u001b[39mSolution\u001b[39;00m:\n\u001b[0;32m----> 2\u001b[0m     \u001b[39mdef\u001b[39;00m \u001b[39mhandleQuery\u001b[39m(\u001b[39mself\u001b[39m, nums1, nums2, queries) \u001b[39m-\u001b[39m\u001b[39m>\u001b[39m List[\u001b[39mint\u001b[39m]:\n\u001b[1;32m      3\u001b[0m         res \u001b[39m=\u001b[39m []\n\u001b[1;32m      4\u001b[0m         \u001b[39mfor\u001b[39;00m operation \u001b[39min\u001b[39;00m queries:\n",
      "\u001b[0;31mNameError\u001b[0m: name 'List' is not defined"
     ]
    }
   ],
   "source": [
    "class Solution:\n",
    "    def handleQuery(self, nums1, nums2, queries) -> List[int]:\n",
    "        res = []\n",
    "        for operation in queries:\n",
    "            if operation[0] == 1:\n",
    "                self.operation1(nums1, operation[1], operation[2])\n",
    "                print(1, nums1)\n",
    "            elif operation[0] == 2:\n",
    "                self.operation2(nums1, nums2, operation[1])\n",
    "                print(2, nums2)\n",
    "            elif operation[0] == 3:\n",
    "                res.append(sum(nums2))\n",
    "        return res\n",
    "\n",
    "    def operation1(self, nums, l, r):\n",
    "        for i in range(l, r + 1):\n",
    "            if not nums[i]:\n",
    "                nums[i] = 1\n",
    "            elif nums[i] == 1:\n",
    "                nums[i] = 0\n",
    "\n",
    "    def operation2(self, nums1, nums2, p):\n",
    "        for i in range(len(nums1)):\n",
    "            nums2[i] += nums1[i] * p"
   ]
  },
  {
   "cell_type": "code",
   "execution_count": 9,
   "metadata": {},
   "outputs": [
    {
     "data": {
      "text/plain": [
       "'...'"
      ]
     },
     "execution_count": 9,
     "metadata": {},
     "output_type": "execute_result"
    }
   ],
   "source": [
    "'.'*3"
   ]
  },
  {
   "cell_type": "code",
   "execution_count": null,
   "metadata": {},
   "outputs": [],
   "source": []
  }
 ],
 "metadata": {
  "kernelspec": {
   "display_name": "Python 3",
   "language": "python",
   "name": "python3"
  },
  "language_info": {
   "codemirror_mode": {
    "name": "ipython",
    "version": 3
   },
   "file_extension": ".py",
   "mimetype": "text/x-python",
   "name": "python",
   "nbconvert_exporter": "python",
   "pygments_lexer": "ipython3",
   "version": "3.8.10"
  },
  "orig_nbformat": 4
 },
 "nbformat": 4,
 "nbformat_minor": 2
}
