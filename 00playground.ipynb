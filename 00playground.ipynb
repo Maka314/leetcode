{
 "cells": [
  {
   "cell_type": "code",
   "execution_count": 15,
   "metadata": {},
   "outputs": [],
   "source": [
    "class navigator:\n",
    "    def __init__(self, obstacles) -> None:\n",
    "        self.barrierX = {}  # 以X查询障碍物\n",
    "        self.barrierY = {}  # 以Y查询障碍物\n",
    "        for i in obstacles:\n",
    "            # i[0] is X, i[1] is Y\n",
    "            if i[0] in self.barrierX:\n",
    "                self.barrierX[i[0]].add(i[1])\n",
    "            else:\n",
    "                self.barrierX[i[0]] = set([i[1]])\n",
    "            if i[1] in self.barrierY:\n",
    "                self.barrierY[i[1]].add(i[0])\n",
    "            else:\n",
    "                self.barrierX[i[1]] = set([i[0]])\n",
    "\n",
    "    def move(self, location, direction, distance):\n",
    "        if direction in [1, 3]:\n",
    "            # 上下方向\n",
    "            d = 1 if direction == 1 else -1\n",
    "            if location[0] not in self.barrierX:\n",
    "                location[1] += d * distance\n",
    "            else:\n",
    "                for _ in range(distance):\n",
    "                    location[1] += 1 * d\n",
    "                    if location[1] in self.barrierX[location[0]]:\n",
    "                        location[1] -= 1 * d\n",
    "                        break\n",
    "        else:\n",
    "            #左右方向\n",
    "            d = 1 if direction == 2 else -1\n",
    "            if location[1] not in self.barrierY:\n",
    "                location[0] += d * distance\n",
    "            else:\n",
    "                for _ in range(distance):\n",
    "                    location[0] += 1 * d\n",
    "                    if location[0] in self.barrierY[location[1]]:\n",
    "                        location[0] -= 1 * d\n",
    "                        break\n",
    "        return location\n",
    "\n",
    "class bot:\n",
    "    def __init__(self) -> None:\n",
    "        self.direction = 1\n",
    "    \n",
    "    def turn(self,commend):\n",
    "        if commend == -1:\n",
    "            self.direction += 1\n",
    "            if self.direction > 4:\n",
    "                self.direction = 1\n",
    "        elif commend == -2:\n",
    "            self.direction -= 1\n",
    "            if self.direction < 1:\n",
    "                self.direction = 4\n",
    "        return self.direction\n"
   ]
  },
  {
   "cell_type": "code",
   "execution_count": 25,
   "metadata": {},
   "outputs": [
    {
     "data": {
      "text/plain": [
       "[4, 4]"
      ]
     },
     "execution_count": 25,
     "metadata": {},
     "output_type": "execute_result"
    }
   ],
   "source": [
    "m = navigator([[2,4]])\n",
    "m.move([0,4],2,4)"
   ]
  },
  {
   "cell_type": "code",
   "execution_count": 26,
   "metadata": {},
   "outputs": [
    {
     "data": {
      "text/plain": [
       "{2: {4}, 4: {2}}"
      ]
     },
     "execution_count": 26,
     "metadata": {},
     "output_type": "execute_result"
    }
   ],
   "source": [
    "m.barrierX"
   ]
  },
  {
   "cell_type": "code",
   "execution_count": null,
   "metadata": {},
   "outputs": [],
   "source": []
  }
 ],
 "metadata": {
  "kernelspec": {
   "display_name": "Python 3",
   "language": "python",
   "name": "python3"
  },
  "language_info": {
   "codemirror_mode": {
    "name": "ipython",
    "version": 3
   },
   "file_extension": ".py",
   "mimetype": "text/x-python",
   "name": "python",
   "nbconvert_exporter": "python",
   "pygments_lexer": "ipython3",
   "version": "3.8.10"
  },
  "orig_nbformat": 4
 },
 "nbformat": 4,
 "nbformat_minor": 2
}
