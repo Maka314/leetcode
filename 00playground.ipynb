{
 "cells": [
  {
   "cell_type": "code",
   "execution_count": 13,
   "metadata": {},
   "outputs": [],
   "source": [
    "class Solution:\n",
    "    def numDecodings(self, s: str) -> int:\n",
    "        res = [0 for _ in range(len(s))]\n",
    "\n",
    "        if int(s[0]) >= 1 and int(s[0]) <= 9:\n",
    "            res[0] = 1\n",
    "        else:\n",
    "            res[0] = 0\n",
    "\n",
    "        if int(s[1]) >= 1 and int(s[1]) <= 9:\n",
    "            res[1] += res\n",
    "\n",
    "        for i in range(2, len(res)):\n",
    "            twoDigit = int(s[i - 1 : i + 1])\n",
    "            print(twoDigit)\n",
    "            if twoDigit >= 1 and twoDigit <= 9:\n",
    "                res[i] = res[i - 1]\n",
    "            elif twoDigit >= 10 and twoDigit <= 26:\n",
    "                res[i] = res[i - 1] + res[i - 2]"
   ]
  },
  {
   "cell_type": "code",
   "execution_count": 14,
   "metadata": {},
   "outputs": [
    {
     "name": "stdout",
     "output_type": "stream",
     "text": [
      "22\n",
      "26\n"
     ]
    }
   ],
   "source": [
    "slu = Solution()\n",
    "slu.numDecodings('226')\n"
   ]
  },
  {
   "cell_type": "code",
   "execution_count": null,
   "metadata": {},
   "outputs": [],
   "source": []
  }
 ],
 "metadata": {
  "kernelspec": {
   "display_name": "Python 3",
   "language": "python",
   "name": "python3"
  },
  "language_info": {
   "codemirror_mode": {
    "name": "ipython",
    "version": 3
   },
   "file_extension": ".py",
   "mimetype": "text/x-python",
   "name": "python",
   "nbconvert_exporter": "python",
   "pygments_lexer": "ipython3",
   "version": "3.8.10"
  },
  "orig_nbformat": 4
 },
 "nbformat": 4,
 "nbformat_minor": 2
}
