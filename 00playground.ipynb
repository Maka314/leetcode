{
 "cells": [
  {
   "cell_type": "code",
   "execution_count": null,
   "metadata": {},
   "outputs": [],
   "source": [
    "source = '''/*Test program */\n",
    "int main()\n",
    "{ \n",
    "  // variable declaration \n",
    "int a, b, c;\n",
    "/* This is a test\n",
    "   multiline  \n",
    "   comment for \n",
    "   testing */\n",
    "a = b + c;\n",
    "}'''"
   ]
  },
  {
   "cell_type": "code",
   "execution_count": 6,
   "metadata": {},
   "outputs": [
    {
     "data": {
      "text/plain": [
       "17"
      ]
     },
     "execution_count": 6,
     "metadata": {},
     "output_type": "execute_result"
    }
   ],
   "source": [
    "def findTarget(source:str, start:int, target:str):\n",
    "    targetLenth = len(target)\n",
    "    for i in range(start,len(source)):\n",
    "        if source[i:i+targetLenth] == target:\n",
    "            return i+targetLenth\n",
    "\n",
    "findTarget(source, 2, '*/')"
   ]
  },
  {
   "cell_type": "code",
   "execution_count": 10,
   "metadata": {},
   "outputs": [
    {
     "data": {
      "text/plain": [
       "['/*Test program */',\n",
       " 'int main()',\n",
       " '{ ',\n",
       " '  // variable declaration ',\n",
       " 'int a, b, c;',\n",
       " '/* This is a test',\n",
       " '   multiline  ',\n",
       " '   comment for ',\n",
       " '   testing */',\n",
       " 'a = b + c;',\n",
       " '}']"
      ]
     },
     "execution_count": 10,
     "metadata": {},
     "output_type": "execute_result"
    }
   ],
   "source": [
    "source.split('\\n')"
   ]
  },
  {
   "cell_type": "code",
   "execution_count": 9,
   "metadata": {},
   "outputs": [
    {
     "data": {
      "text/plain": [
       "'\\n'"
      ]
     },
     "execution_count": 9,
     "metadata": {},
     "output_type": "execute_result"
    }
   ],
   "source": [
    "source[17]"
   ]
  },
  {
   "cell_type": "code",
   "execution_count": null,
   "metadata": {},
   "outputs": [],
   "source": []
  }
 ],
 "metadata": {
  "kernelspec": {
   "display_name": "Python 3",
   "language": "python",
   "name": "python3"
  },
  "language_info": {
   "codemirror_mode": {
    "name": "ipython",
    "version": 3
   },
   "file_extension": ".py",
   "mimetype": "text/x-python",
   "name": "python",
   "nbconvert_exporter": "python",
   "pygments_lexer": "ipython3",
   "version": "3.8.10"
  },
  "orig_nbformat": 4
 },
 "nbformat": 4,
 "nbformat_minor": 2
}
